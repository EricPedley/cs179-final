{
 "cells": [
  {
   "cell_type": "code",
   "execution_count": 1,
   "id": "b2035e36",
   "metadata": {},
   "outputs": [
    {
     "name": "stdout",
     "output_type": "stream",
     "text": [
      "Warning: Missing ground truth pose for interval 1585067782.1078572 to 1585067782.140857. Skipping this interval.\n",
      "Warning: Missing ground truth pose for interval 1585067782.140857 to 1585067782.1738572. Skipping this interval.\n"
     ]
    }
   ],
   "source": [
    "%load_ext autoreload\n",
    "%autoreload 2\n",
    "\n",
    "from data_reading import read_images, load_reference_poses, read_imu, sync_data\n",
    "from visualization import visualize_trajectory\n",
    "from visual_odometry import compute_relative_pose, compute_matches\n",
    "\n",
    "imgs = read_images()\n",
    "imu = read_imu()\n",
    "gt_poses = load_reference_poses()\n",
    "imgs_list = []\n",
    "for i, img in enumerate(imgs):\n",
    "    if i>1000:\n",
    "        break\n",
    "    imgs_list.append(img)\n",
    "synced_data = sync_data(imu, imgs_list, gt_poses)"
   ]
  },
  {
   "cell_type": "code",
   "execution_count": 3,
   "id": "0a9dce66",
   "metadata": {},
   "outputs": [
    {
     "name": "stdout",
     "output_type": "stream",
     "text": [
      "1036 inliers found out of 1136 matches\n",
      "(array([ 0.1762211 , -0.05578694,  0.00300311]), <scipy.spatial.transform._rotation.Rotation object at 0x764b83f975a0>)\n",
      "Position difference: [-0.01366673 -0.05954619  0.99813199]\n",
      "Rotation difference: [1.11809506e-04 5.50625140e-05 3.10835139e-05]\n"
     ]
    }
   ],
   "source": [
    "points0, points1, descriptors, E = compute_matches(synced_data[0].img_left_start, synced_data[0].img_right_start)\n",
    "t, r = compute_relative_pose(E, points0, points1)\n",
    "print(synced_data[0].gt_pose_start)\n",
    "estimated_second_pose_t = synced_data[0].gt_pose_start[1].apply(t) + synced_data[0].gt_pose_start[0]\n",
    "estimated_second_pose_r = synced_data[0].gt_pose_start[1] * r\n",
    "\n",
    "pos_diff = estimated_second_pose_t - synced_data[0].gt_pose_end[0]\n",
    "rot_diff = estimated_second_pose_r.as_euler('XYZ', degrees=True) - synced_data[0].gt_pose_end[1].as_euler('XYZ', degrees=True)\n",
    "print(f\"Position difference: {pos_diff}\")\n",
    "print(f\"Rotation difference: {rot_diff}\")\n"
   ]
  }
 ],
 "metadata": {
  "kernelspec": {
   "display_name": "Python 3",
   "language": "python",
   "name": "python3"
  },
  "language_info": {
   "codemirror_mode": {
    "name": "ipython",
    "version": 3
   },
   "file_extension": ".py",
   "mimetype": "text/x-python",
   "name": "python",
   "nbconvert_exporter": "python",
   "pygments_lexer": "ipython3",
   "version": "3.10.12"
  }
 },
 "nbformat": 4,
 "nbformat_minor": 5
}
